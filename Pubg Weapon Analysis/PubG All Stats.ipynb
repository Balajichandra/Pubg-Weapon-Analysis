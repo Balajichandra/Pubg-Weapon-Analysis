{
 "cells": [
  {
   "cell_type": "code",
   "execution_count": 1,
   "id": "a33d5193",
   "metadata": {},
   "outputs": [],
   "source": [
    "import numpy as np\n",
    "import pandas as pd\n",
    "import matplotlib.pyplot as plt\n",
    "import seaborn as sns"
   ]
  },
  {
   "cell_type": "code",
   "execution_count": 2,
   "id": "d36476ee",
   "metadata": {},
   "outputs": [
    {
     "data": {
      "text/html": [
       "<div>\n",
       "<style scoped>\n",
       "    .dataframe tbody tr th:only-of-type {\n",
       "        vertical-align: middle;\n",
       "    }\n",
       "\n",
       "    .dataframe tbody tr th {\n",
       "        vertical-align: top;\n",
       "    }\n",
       "\n",
       "    .dataframe thead th {\n",
       "        text-align: right;\n",
       "    }\n",
       "</style>\n",
       "<table border=\"1\" class=\"dataframe\">\n",
       "  <thead>\n",
       "    <tr style=\"text-align: right;\">\n",
       "      <th></th>\n",
       "      <th>Weapon Name</th>\n",
       "      <th>Weapon Type</th>\n",
       "      <th>Bullet Type</th>\n",
       "      <th>Damage</th>\n",
       "      <th>Magazine Capacity</th>\n",
       "      <th>Range</th>\n",
       "      <th>Bullet Speed</th>\n",
       "      <th>Rate of Fire</th>\n",
       "      <th>Shots to Kill (Chest)</th>\n",
       "      <th>Shots to Kill (Head)</th>\n",
       "      <th>Damage Per Second</th>\n",
       "      <th>Fire Mode</th>\n",
       "      <th>BDMG_0</th>\n",
       "      <th>BDMG_1</th>\n",
       "      <th>BDMG_2</th>\n",
       "      <th>BDMG_3</th>\n",
       "      <th>HDMG_0</th>\n",
       "      <th>HDMG_1</th>\n",
       "      <th>HDMG_2</th>\n",
       "      <th>HDMG_3</th>\n",
       "    </tr>\n",
       "  </thead>\n",
       "  <tbody>\n",
       "    <tr>\n",
       "      <th>0</th>\n",
       "      <td>Groza</td>\n",
       "      <td>Assault Rifle</td>\n",
       "      <td>7.62</td>\n",
       "      <td>49</td>\n",
       "      <td>30</td>\n",
       "      <td>400.0</td>\n",
       "      <td>715.0</td>\n",
       "      <td>0.080</td>\n",
       "      <td>4</td>\n",
       "      <td>2</td>\n",
       "      <td>612.0</td>\n",
       "      <td>Single, Automatic, Burst</td>\n",
       "      <td>47.0</td>\n",
       "      <td>34.3</td>\n",
       "      <td>29.4</td>\n",
       "      <td>22.0</td>\n",
       "      <td>115.1</td>\n",
       "      <td>80.6</td>\n",
       "      <td>69.0</td>\n",
       "      <td>51.8</td>\n",
       "    </tr>\n",
       "    <tr>\n",
       "      <th>1</th>\n",
       "      <td>AKM</td>\n",
       "      <td>Assault Rifle</td>\n",
       "      <td>7.62</td>\n",
       "      <td>49</td>\n",
       "      <td>30</td>\n",
       "      <td>400.0</td>\n",
       "      <td>710.0</td>\n",
       "      <td>0.010</td>\n",
       "      <td>4</td>\n",
       "      <td>2</td>\n",
       "      <td>490.0</td>\n",
       "      <td>Single, Automatic</td>\n",
       "      <td>47.0</td>\n",
       "      <td>34.3</td>\n",
       "      <td>29.4</td>\n",
       "      <td>22.0</td>\n",
       "      <td>115.1</td>\n",
       "      <td>80.6</td>\n",
       "      <td>69.0</td>\n",
       "      <td>51.8</td>\n",
       "    </tr>\n",
       "    <tr>\n",
       "      <th>2</th>\n",
       "      <td>M762</td>\n",
       "      <td>Assault Rifle</td>\n",
       "      <td>7.62</td>\n",
       "      <td>47</td>\n",
       "      <td>30</td>\n",
       "      <td>400.0</td>\n",
       "      <td>715.0</td>\n",
       "      <td>0.086</td>\n",
       "      <td>4</td>\n",
       "      <td>2</td>\n",
       "      <td>547.0</td>\n",
       "      <td>Single, Automatic, Burst</td>\n",
       "      <td>46.0</td>\n",
       "      <td>32.9</td>\n",
       "      <td>28.2</td>\n",
       "      <td>21.1</td>\n",
       "      <td>110.4</td>\n",
       "      <td>77.3</td>\n",
       "      <td>66.2</td>\n",
       "      <td>49.7</td>\n",
       "    </tr>\n",
       "    <tr>\n",
       "      <th>3</th>\n",
       "      <td>MK47 Mutant</td>\n",
       "      <td>Assault Rifle</td>\n",
       "      <td>7.62</td>\n",
       "      <td>49</td>\n",
       "      <td>30</td>\n",
       "      <td>500.0</td>\n",
       "      <td>715.0</td>\n",
       "      <td>0.010</td>\n",
       "      <td>4</td>\n",
       "      <td>2</td>\n",
       "      <td>490.0</td>\n",
       "      <td>Single, Burst</td>\n",
       "      <td>49.0</td>\n",
       "      <td>34.3</td>\n",
       "      <td>29.4</td>\n",
       "      <td>22.0</td>\n",
       "      <td>115.1</td>\n",
       "      <td>80.6</td>\n",
       "      <td>69.0</td>\n",
       "      <td>51.8</td>\n",
       "    </tr>\n",
       "    <tr>\n",
       "      <th>4</th>\n",
       "      <td>AUG A3</td>\n",
       "      <td>Assault Rifle</td>\n",
       "      <td>5.56</td>\n",
       "      <td>43</td>\n",
       "      <td>30</td>\n",
       "      <td>600.0</td>\n",
       "      <td>880.0</td>\n",
       "      <td>0.086</td>\n",
       "      <td>4</td>\n",
       "      <td>2</td>\n",
       "      <td>502.0</td>\n",
       "      <td>Single, Automatic</td>\n",
       "      <td>41.0</td>\n",
       "      <td>30.1</td>\n",
       "      <td>25.8</td>\n",
       "      <td>19.3</td>\n",
       "      <td>101.0</td>\n",
       "      <td>70.7</td>\n",
       "      <td>60.6</td>\n",
       "      <td>45.4</td>\n",
       "    </tr>\n",
       "  </tbody>\n",
       "</table>\n",
       "</div>"
      ],
      "text/plain": [
       "   Weapon Name    Weapon Type  Bullet Type  Damage  Magazine Capacity  Range  \\\n",
       "0        Groza  Assault Rifle         7.62      49                 30  400.0   \n",
       "1          AKM  Assault Rifle         7.62      49                 30  400.0   \n",
       "2         M762  Assault Rifle         7.62      47                 30  400.0   \n",
       "3  MK47 Mutant  Assault Rifle         7.62      49                 30  500.0   \n",
       "4       AUG A3  Assault Rifle         5.56      43                 30  600.0   \n",
       "\n",
       "   Bullet Speed  Rate of Fire  Shots to Kill (Chest)  Shots to Kill (Head)  \\\n",
       "0         715.0         0.080                      4                     2   \n",
       "1         710.0         0.010                      4                     2   \n",
       "2         715.0         0.086                      4                     2   \n",
       "3         715.0         0.010                      4                     2   \n",
       "4         880.0         0.086                      4                     2   \n",
       "\n",
       "   Damage Per Second                 Fire Mode  BDMG_0  BDMG_1  BDMG_2  \\\n",
       "0              612.0  Single, Automatic, Burst    47.0    34.3    29.4   \n",
       "1              490.0         Single, Automatic    47.0    34.3    29.4   \n",
       "2              547.0  Single, Automatic, Burst    46.0    32.9    28.2   \n",
       "3              490.0             Single, Burst    49.0    34.3    29.4   \n",
       "4              502.0         Single, Automatic    41.0    30.1    25.8   \n",
       "\n",
       "   BDMG_3  HDMG_0  HDMG_1  HDMG_2  HDMG_3  \n",
       "0    22.0   115.1    80.6    69.0    51.8  \n",
       "1    22.0   115.1    80.6    69.0    51.8  \n",
       "2    21.1   110.4    77.3    66.2    49.7  \n",
       "3    22.0   115.1    80.6    69.0    51.8  \n",
       "4    19.3   101.0    70.7    60.6    45.4  "
      ]
     },
     "execution_count": 2,
     "metadata": {},
     "output_type": "execute_result"
    }
   ],
   "source": [
    "data = pd.read_csv('pubg-weapon-stats.csv')\n",
    "data.head(5)"
   ]
  },
  {
   "cell_type": "code",
   "execution_count": 3,
   "id": "1efd68bd",
   "metadata": {},
   "outputs": [
    {
     "data": {
      "text/plain": [
       "(44, 20)"
      ]
     },
     "execution_count": 3,
     "metadata": {},
     "output_type": "execute_result"
    }
   ],
   "source": [
    "data.shape"
   ]
  },
  {
   "cell_type": "code",
   "execution_count": 4,
   "id": "9071f9e7",
   "metadata": {},
   "outputs": [
    {
     "data": {
      "text/plain": [
       "Index(['Weapon Name', 'Weapon Type', 'Bullet Type', 'Damage',\n",
       "       'Magazine Capacity', 'Range', 'Bullet Speed', 'Rate of Fire',\n",
       "       'Shots to Kill (Chest)', 'Shots to Kill (Head)', 'Damage Per Second',\n",
       "       'Fire Mode', 'BDMG_0', 'BDMG_1', 'BDMG_2', 'BDMG_3', 'HDMG_0', 'HDMG_1',\n",
       "       'HDMG_2', 'HDMG_3'],\n",
       "      dtype='object')"
      ]
     },
     "execution_count": 4,
     "metadata": {},
     "output_type": "execute_result"
    }
   ],
   "source": [
    "data.columns"
   ]
  },
  {
   "cell_type": "code",
   "execution_count": 5,
   "id": "2ed64e96",
   "metadata": {},
   "outputs": [
    {
     "name": "stdout",
     "output_type": "stream",
     "text": [
      "<class 'pandas.core.frame.DataFrame'>\n",
      "RangeIndex: 44 entries, 0 to 43\n",
      "Data columns (total 20 columns):\n",
      " #   Column                 Non-Null Count  Dtype  \n",
      "---  ------                 --------------  -----  \n",
      " 0   Weapon Name            44 non-null     object \n",
      " 1   Weapon Type            44 non-null     object \n",
      " 2   Bullet Type            38 non-null     float64\n",
      " 3   Damage                 44 non-null     int64  \n",
      " 4   Magazine Capacity      44 non-null     int64  \n",
      " 5   Range                  38 non-null     float64\n",
      " 6   Bullet Speed           36 non-null     float64\n",
      " 7   Rate of Fire           44 non-null     float64\n",
      " 8   Shots to Kill (Chest)  44 non-null     int64  \n",
      " 9   Shots to Kill (Head)   44 non-null     int64  \n",
      " 10  Damage Per Second      44 non-null     float64\n",
      " 11  Fire Mode              44 non-null     object \n",
      " 12  BDMG_0                 37 non-null     float64\n",
      " 13  BDMG_1                 37 non-null     float64\n",
      " 14  BDMG_2                 37 non-null     float64\n",
      " 15  BDMG_3                 37 non-null     float64\n",
      " 16  HDMG_0                 37 non-null     float64\n",
      " 17  HDMG_1                 37 non-null     float64\n",
      " 18  HDMG_2                 37 non-null     float64\n",
      " 19  HDMG_3                 37 non-null     float64\n",
      "dtypes: float64(13), int64(4), object(3)\n",
      "memory usage: 7.0+ KB\n"
     ]
    }
   ],
   "source": [
    "data.info()"
   ]
  },
  {
   "cell_type": "code",
   "execution_count": 6,
   "id": "0fe021a3",
   "metadata": {},
   "outputs": [
    {
     "data": {
      "text/html": [
       "<div>\n",
       "<style scoped>\n",
       "    .dataframe tbody tr th:only-of-type {\n",
       "        vertical-align: middle;\n",
       "    }\n",
       "\n",
       "    .dataframe tbody tr th {\n",
       "        vertical-align: top;\n",
       "    }\n",
       "\n",
       "    .dataframe thead th {\n",
       "        text-align: right;\n",
       "    }\n",
       "</style>\n",
       "<table border=\"1\" class=\"dataframe\">\n",
       "  <thead>\n",
       "    <tr style=\"text-align: right;\">\n",
       "      <th></th>\n",
       "      <th>Bullet Type</th>\n",
       "      <th>Damage</th>\n",
       "      <th>Magazine Capacity</th>\n",
       "      <th>Range</th>\n",
       "      <th>Bullet Speed</th>\n",
       "      <th>Rate of Fire</th>\n",
       "      <th>Shots to Kill (Chest)</th>\n",
       "      <th>Shots to Kill (Head)</th>\n",
       "      <th>Damage Per Second</th>\n",
       "      <th>BDMG_0</th>\n",
       "      <th>BDMG_1</th>\n",
       "      <th>BDMG_2</th>\n",
       "      <th>BDMG_3</th>\n",
       "      <th>HDMG_0</th>\n",
       "      <th>HDMG_1</th>\n",
       "      <th>HDMG_2</th>\n",
       "      <th>HDMG_3</th>\n",
       "    </tr>\n",
       "  </thead>\n",
       "  <tbody>\n",
       "    <tr>\n",
       "      <th>count</th>\n",
       "      <td>38.000000</td>\n",
       "      <td>44.000000</td>\n",
       "      <td>44.000000</td>\n",
       "      <td>38.000000</td>\n",
       "      <td>36.000000</td>\n",
       "      <td>44.000000</td>\n",
       "      <td>44.000000</td>\n",
       "      <td>44.000000</td>\n",
       "      <td>44.000000</td>\n",
       "      <td>37.000000</td>\n",
       "      <td>37.000000</td>\n",
       "      <td>37.00000</td>\n",
       "      <td>37.000000</td>\n",
       "      <td>37.000000</td>\n",
       "      <td>37.000000</td>\n",
       "      <td>37.000000</td>\n",
       "      <td>37.000000</td>\n",
       "    </tr>\n",
       "    <tr>\n",
       "      <th>mean</th>\n",
       "      <td>6.747632</td>\n",
       "      <td>63.340909</td>\n",
       "      <td>18.431818</td>\n",
       "      <td>403.552632</td>\n",
       "      <td>615.777778</td>\n",
       "      <td>0.388670</td>\n",
       "      <td>3.840909</td>\n",
       "      <td>2.136364</td>\n",
       "      <td>394.102500</td>\n",
       "      <td>68.081081</td>\n",
       "      <td>47.929730</td>\n",
       "      <td>41.02973</td>\n",
       "      <td>30.762162</td>\n",
       "      <td>125.756757</td>\n",
       "      <td>88.024324</td>\n",
       "      <td>75.418919</td>\n",
       "      <td>56.554054</td>\n",
       "    </tr>\n",
       "    <tr>\n",
       "      <th>std</th>\n",
       "      <td>3.336421</td>\n",
       "      <td>47.134613</td>\n",
       "      <td>18.421925</td>\n",
       "      <td>297.886492</td>\n",
       "      <td>256.455077</td>\n",
       "      <td>0.712255</td>\n",
       "      <td>1.829261</td>\n",
       "      <td>0.851562</td>\n",
       "      <td>230.785698</td>\n",
       "      <td>57.379254</td>\n",
       "      <td>40.074853</td>\n",
       "      <td>34.22249</td>\n",
       "      <td>25.699852</td>\n",
       "      <td>66.445937</td>\n",
       "      <td>46.555728</td>\n",
       "      <td>39.888009</td>\n",
       "      <td>29.872717</td>\n",
       "    </tr>\n",
       "    <tr>\n",
       "      <th>min</th>\n",
       "      <td>0.300000</td>\n",
       "      <td>18.000000</td>\n",
       "      <td>1.000000</td>\n",
       "      <td>25.000000</td>\n",
       "      <td>250.000000</td>\n",
       "      <td>0.010000</td>\n",
       "      <td>1.000000</td>\n",
       "      <td>1.000000</td>\n",
       "      <td>28.000000</td>\n",
       "      <td>22.400000</td>\n",
       "      <td>15.700000</td>\n",
       "      <td>13.40000</td>\n",
       "      <td>10.100000</td>\n",
       "      <td>44.900000</td>\n",
       "      <td>31.400000</td>\n",
       "      <td>26.900000</td>\n",
       "      <td>20.200000</td>\n",
       "    </tr>\n",
       "    <tr>\n",
       "      <th>25%</th>\n",
       "      <td>5.560000</td>\n",
       "      <td>41.000000</td>\n",
       "      <td>5.000000</td>\n",
       "      <td>52.500000</td>\n",
       "      <td>350.000000</td>\n",
       "      <td>0.063375</td>\n",
       "      <td>3.000000</td>\n",
       "      <td>2.000000</td>\n",
       "      <td>199.377500</td>\n",
       "      <td>41.000000</td>\n",
       "      <td>30.100000</td>\n",
       "      <td>25.80000</td>\n",
       "      <td>19.300000</td>\n",
       "      <td>96.300000</td>\n",
       "      <td>67.400000</td>\n",
       "      <td>57.800000</td>\n",
       "      <td>43.300000</td>\n",
       "    </tr>\n",
       "    <tr>\n",
       "      <th>50%</th>\n",
       "      <td>7.620000</td>\n",
       "      <td>48.500000</td>\n",
       "      <td>12.500000</td>\n",
       "      <td>400.000000</td>\n",
       "      <td>715.000000</td>\n",
       "      <td>0.091000</td>\n",
       "      <td>4.000000</td>\n",
       "      <td>2.000000</td>\n",
       "      <td>463.000000</td>\n",
       "      <td>47.000000</td>\n",
       "      <td>33.800000</td>\n",
       "      <td>28.90000</td>\n",
       "      <td>21.700000</td>\n",
       "      <td>109.600000</td>\n",
       "      <td>76.700000</td>\n",
       "      <td>65.700000</td>\n",
       "      <td>49.300000</td>\n",
       "    </tr>\n",
       "    <tr>\n",
       "      <th>75%</th>\n",
       "      <td>9.000000</td>\n",
       "      <td>60.250000</td>\n",
       "      <td>30.000000</td>\n",
       "      <td>600.000000</td>\n",
       "      <td>859.750000</td>\n",
       "      <td>0.347500</td>\n",
       "      <td>4.250000</td>\n",
       "      <td>2.250000</td>\n",
       "      <td>509.000000</td>\n",
       "      <td>60.900000</td>\n",
       "      <td>42.600000</td>\n",
       "      <td>36.50000</td>\n",
       "      <td>27.400000</td>\n",
       "      <td>136.300000</td>\n",
       "      <td>95.400000</td>\n",
       "      <td>81.700000</td>\n",
       "      <td>61.300000</td>\n",
       "    </tr>\n",
       "    <tr>\n",
       "      <th>max</th>\n",
       "      <td>12.000000</td>\n",
       "      <td>216.000000</td>\n",
       "      <td>100.000000</td>\n",
       "      <td>900.000000</td>\n",
       "      <td>990.000000</td>\n",
       "      <td>3.800000</td>\n",
       "      <td>10.000000</td>\n",
       "      <td>4.000000</td>\n",
       "      <td>1080.000000</td>\n",
       "      <td>282.600000</td>\n",
       "      <td>198.000000</td>\n",
       "      <td>169.20000</td>\n",
       "      <td>126.900000</td>\n",
       "      <td>312.300000</td>\n",
       "      <td>218.700000</td>\n",
       "      <td>187.200000</td>\n",
       "      <td>140.400000</td>\n",
       "    </tr>\n",
       "  </tbody>\n",
       "</table>\n",
       "</div>"
      ],
      "text/plain": [
       "       Bullet Type      Damage  Magazine Capacity       Range  Bullet Speed  \\\n",
       "count    38.000000   44.000000          44.000000   38.000000     36.000000   \n",
       "mean      6.747632   63.340909          18.431818  403.552632    615.777778   \n",
       "std       3.336421   47.134613          18.421925  297.886492    256.455077   \n",
       "min       0.300000   18.000000           1.000000   25.000000    250.000000   \n",
       "25%       5.560000   41.000000           5.000000   52.500000    350.000000   \n",
       "50%       7.620000   48.500000          12.500000  400.000000    715.000000   \n",
       "75%       9.000000   60.250000          30.000000  600.000000    859.750000   \n",
       "max      12.000000  216.000000         100.000000  900.000000    990.000000   \n",
       "\n",
       "       Rate of Fire  Shots to Kill (Chest)  Shots to Kill (Head)  \\\n",
       "count     44.000000              44.000000             44.000000   \n",
       "mean       0.388670               3.840909              2.136364   \n",
       "std        0.712255               1.829261              0.851562   \n",
       "min        0.010000               1.000000              1.000000   \n",
       "25%        0.063375               3.000000              2.000000   \n",
       "50%        0.091000               4.000000              2.000000   \n",
       "75%        0.347500               4.250000              2.250000   \n",
       "max        3.800000              10.000000              4.000000   \n",
       "\n",
       "       Damage Per Second      BDMG_0      BDMG_1     BDMG_2      BDMG_3  \\\n",
       "count          44.000000   37.000000   37.000000   37.00000   37.000000   \n",
       "mean          394.102500   68.081081   47.929730   41.02973   30.762162   \n",
       "std           230.785698   57.379254   40.074853   34.22249   25.699852   \n",
       "min            28.000000   22.400000   15.700000   13.40000   10.100000   \n",
       "25%           199.377500   41.000000   30.100000   25.80000   19.300000   \n",
       "50%           463.000000   47.000000   33.800000   28.90000   21.700000   \n",
       "75%           509.000000   60.900000   42.600000   36.50000   27.400000   \n",
       "max          1080.000000  282.600000  198.000000  169.20000  126.900000   \n",
       "\n",
       "           HDMG_0      HDMG_1      HDMG_2      HDMG_3  \n",
       "count   37.000000   37.000000   37.000000   37.000000  \n",
       "mean   125.756757   88.024324   75.418919   56.554054  \n",
       "std     66.445937   46.555728   39.888009   29.872717  \n",
       "min     44.900000   31.400000   26.900000   20.200000  \n",
       "25%     96.300000   67.400000   57.800000   43.300000  \n",
       "50%    109.600000   76.700000   65.700000   49.300000  \n",
       "75%    136.300000   95.400000   81.700000   61.300000  \n",
       "max    312.300000  218.700000  187.200000  140.400000  "
      ]
     },
     "execution_count": 6,
     "metadata": {},
     "output_type": "execute_result"
    }
   ],
   "source": [
    "data.describe()"
   ]
  },
  {
   "cell_type": "code",
   "execution_count": 7,
   "id": "7d8960a2",
   "metadata": {},
   "outputs": [],
   "source": [
    "data.dropna(axis=0,inplace=True)"
   ]
  },
  {
   "cell_type": "code",
   "execution_count": 8,
   "id": "86a388a4",
   "metadata": {},
   "outputs": [
    {
     "data": {
      "text/plain": [
       "(35, 20)"
      ]
     },
     "execution_count": 8,
     "metadata": {},
     "output_type": "execute_result"
    }
   ],
   "source": [
    "data.shape"
   ]
  },
  {
   "cell_type": "code",
   "execution_count": 10,
   "id": "8c041138",
   "metadata": {},
   "outputs": [
    {
     "data": {
      "text/html": [
       "<div>\n",
       "<style scoped>\n",
       "    .dataframe tbody tr th:only-of-type {\n",
       "        vertical-align: middle;\n",
       "    }\n",
       "\n",
       "    .dataframe tbody tr th {\n",
       "        vertical-align: top;\n",
       "    }\n",
       "\n",
       "    .dataframe thead th {\n",
       "        text-align: right;\n",
       "    }\n",
       "</style>\n",
       "<table border=\"1\" class=\"dataframe\">\n",
       "  <thead>\n",
       "    <tr style=\"text-align: right;\">\n",
       "      <th></th>\n",
       "      <th>Bullet Type</th>\n",
       "      <th>Damage</th>\n",
       "      <th>Magazine Capacity</th>\n",
       "      <th>Range</th>\n",
       "      <th>Bullet Speed</th>\n",
       "      <th>Rate of Fire</th>\n",
       "      <th>Shots to Kill (Chest)</th>\n",
       "      <th>Shots to Kill (Head)</th>\n",
       "      <th>Damage Per Second</th>\n",
       "      <th>BDMG_0</th>\n",
       "      <th>BDMG_1</th>\n",
       "      <th>BDMG_2</th>\n",
       "      <th>BDMG_3</th>\n",
       "      <th>HDMG_0</th>\n",
       "      <th>HDMG_1</th>\n",
       "      <th>HDMG_2</th>\n",
       "      <th>HDMG_3</th>\n",
       "    </tr>\n",
       "    <tr>\n",
       "      <th>Weapon Type</th>\n",
       "      <th></th>\n",
       "      <th></th>\n",
       "      <th></th>\n",
       "      <th></th>\n",
       "      <th></th>\n",
       "      <th></th>\n",
       "      <th></th>\n",
       "      <th></th>\n",
       "      <th></th>\n",
       "      <th></th>\n",
       "      <th></th>\n",
       "      <th></th>\n",
       "      <th></th>\n",
       "      <th></th>\n",
       "      <th></th>\n",
       "      <th></th>\n",
       "      <th></th>\n",
       "    </tr>\n",
       "  </thead>\n",
       "  <tbody>\n",
       "    <tr>\n",
       "      <th>Assault Rifle</th>\n",
       "      <td>6.384000</td>\n",
       "      <td>45.200000</td>\n",
       "      <td>30.000000</td>\n",
       "      <td>530.000000</td>\n",
       "      <td>816.500000</td>\n",
       "      <td>0.064600</td>\n",
       "      <td>4.000000</td>\n",
       "      <td>2.000000</td>\n",
       "      <td>498.9000</td>\n",
       "      <td>43.700</td>\n",
       "      <td>31.640000</td>\n",
       "      <td>27.120000</td>\n",
       "      <td>20.290000</td>\n",
       "      <td>106.170000</td>\n",
       "      <td>74.330000</td>\n",
       "      <td>63.680000</td>\n",
       "      <td>47.750000</td>\n",
       "    </tr>\n",
       "    <tr>\n",
       "      <th>Designed Marksman Rifle</th>\n",
       "      <td>7.163333</td>\n",
       "      <td>50.833333</td>\n",
       "      <td>11.666667</td>\n",
       "      <td>733.333333</td>\n",
       "      <td>763.000000</td>\n",
       "      <td>0.023333</td>\n",
       "      <td>3.000000</td>\n",
       "      <td>2.000000</td>\n",
       "      <td>534.5000</td>\n",
       "      <td>53.700</td>\n",
       "      <td>37.566667</td>\n",
       "      <td>32.183333</td>\n",
       "      <td>24.133333</td>\n",
       "      <td>120.216667</td>\n",
       "      <td>84.116667</td>\n",
       "      <td>72.100000</td>\n",
       "      <td>54.066667</td>\n",
       "    </tr>\n",
       "    <tr>\n",
       "      <th>Light Machine Gun</th>\n",
       "      <td>6.590000</td>\n",
       "      <td>48.000000</td>\n",
       "      <td>73.500000</td>\n",
       "      <td>500.000000</td>\n",
       "      <td>815.000000</td>\n",
       "      <td>0.092000</td>\n",
       "      <td>4.000000</td>\n",
       "      <td>2.000000</td>\n",
       "      <td>534.0000</td>\n",
       "      <td>48.000</td>\n",
       "      <td>33.500000</td>\n",
       "      <td>28.800000</td>\n",
       "      <td>21.550000</td>\n",
       "      <td>110.350000</td>\n",
       "      <td>77.250000</td>\n",
       "      <td>66.150000</td>\n",
       "      <td>49.600000</td>\n",
       "    </tr>\n",
       "    <tr>\n",
       "      <th>Pistol</th>\n",
       "      <td>6.517500</td>\n",
       "      <td>38.500000</td>\n",
       "      <td>11.500000</td>\n",
       "      <td>25.000000</td>\n",
       "      <td>333.750000</td>\n",
       "      <td>0.177500</td>\n",
       "      <td>5.500000</td>\n",
       "      <td>3.000000</td>\n",
       "      <td>288.1275</td>\n",
       "      <td>38.075</td>\n",
       "      <td>26.650000</td>\n",
       "      <td>22.800000</td>\n",
       "      <td>17.100000</td>\n",
       "      <td>76.200000</td>\n",
       "      <td>53.325000</td>\n",
       "      <td>45.675000</td>\n",
       "      <td>34.275000</td>\n",
       "    </tr>\n",
       "    <tr>\n",
       "      <th>Shotgun</th>\n",
       "      <td>12.000000</td>\n",
       "      <td>210.000000</td>\n",
       "      <td>4.000000</td>\n",
       "      <td>25.000000</td>\n",
       "      <td>360.000000</td>\n",
       "      <td>0.383333</td>\n",
       "      <td>1.000000</td>\n",
       "      <td>1.000000</td>\n",
       "      <td>720.0000</td>\n",
       "      <td>231.600</td>\n",
       "      <td>162.300000</td>\n",
       "      <td>138.600000</td>\n",
       "      <td>104.100000</td>\n",
       "      <td>269.100000</td>\n",
       "      <td>188.400000</td>\n",
       "      <td>161.400000</td>\n",
       "      <td>120.900000</td>\n",
       "    </tr>\n",
       "    <tr>\n",
       "      <th>Sniper Rifle</th>\n",
       "      <td>3.997500</td>\n",
       "      <td>81.250000</td>\n",
       "      <td>5.000000</td>\n",
       "      <td>775.000000</td>\n",
       "      <td>792.500000</td>\n",
       "      <td>1.537500</td>\n",
       "      <td>2.000000</td>\n",
       "      <td>1.250000</td>\n",
       "      <td>64.5000</td>\n",
       "      <td>99.675</td>\n",
       "      <td>69.725000</td>\n",
       "      <td>59.725000</td>\n",
       "      <td>44.825000</td>\n",
       "      <td>205.500000</td>\n",
       "      <td>143.825000</td>\n",
       "      <td>123.250000</td>\n",
       "      <td>92.525000</td>\n",
       "    </tr>\n",
       "    <tr>\n",
       "      <th>Submachine Gun</th>\n",
       "      <td>6.150000</td>\n",
       "      <td>34.000000</td>\n",
       "      <td>30.333333</td>\n",
       "      <td>208.333333</td>\n",
       "      <td>301.666667</td>\n",
       "      <td>0.070250</td>\n",
       "      <td>5.333333</td>\n",
       "      <td>3.166667</td>\n",
       "      <td>484.0000</td>\n",
       "      <td>34.000</td>\n",
       "      <td>23.783333</td>\n",
       "      <td>20.383333</td>\n",
       "      <td>15.266667</td>\n",
       "      <td>61.200000</td>\n",
       "      <td>42.783333</td>\n",
       "      <td>36.666667</td>\n",
       "      <td>27.500000</td>\n",
       "    </tr>\n",
       "  </tbody>\n",
       "</table>\n",
       "</div>"
      ],
      "text/plain": [
       "                         Bullet Type      Damage  Magazine Capacity  \\\n",
       "Weapon Type                                                           \n",
       "Assault Rifle               6.384000   45.200000          30.000000   \n",
       "Designed Marksman Rifle     7.163333   50.833333          11.666667   \n",
       "Light Machine Gun           6.590000   48.000000          73.500000   \n",
       "Pistol                      6.517500   38.500000          11.500000   \n",
       "Shotgun                    12.000000  210.000000           4.000000   \n",
       "Sniper Rifle                3.997500   81.250000           5.000000   \n",
       "Submachine Gun              6.150000   34.000000          30.333333   \n",
       "\n",
       "                              Range  Bullet Speed  Rate of Fire  \\\n",
       "Weapon Type                                                       \n",
       "Assault Rifle            530.000000    816.500000      0.064600   \n",
       "Designed Marksman Rifle  733.333333    763.000000      0.023333   \n",
       "Light Machine Gun        500.000000    815.000000      0.092000   \n",
       "Pistol                    25.000000    333.750000      0.177500   \n",
       "Shotgun                   25.000000    360.000000      0.383333   \n",
       "Sniper Rifle             775.000000    792.500000      1.537500   \n",
       "Submachine Gun           208.333333    301.666667      0.070250   \n",
       "\n",
       "                         Shots to Kill (Chest)  Shots to Kill (Head)  \\\n",
       "Weapon Type                                                            \n",
       "Assault Rifle                         4.000000              2.000000   \n",
       "Designed Marksman Rifle               3.000000              2.000000   \n",
       "Light Machine Gun                     4.000000              2.000000   \n",
       "Pistol                                5.500000              3.000000   \n",
       "Shotgun                               1.000000              1.000000   \n",
       "Sniper Rifle                          2.000000              1.250000   \n",
       "Submachine Gun                        5.333333              3.166667   \n",
       "\n",
       "                         Damage Per Second   BDMG_0      BDMG_1      BDMG_2  \\\n",
       "Weapon Type                                                                   \n",
       "Assault Rifle                     498.9000   43.700   31.640000   27.120000   \n",
       "Designed Marksman Rifle           534.5000   53.700   37.566667   32.183333   \n",
       "Light Machine Gun                 534.0000   48.000   33.500000   28.800000   \n",
       "Pistol                            288.1275   38.075   26.650000   22.800000   \n",
       "Shotgun                           720.0000  231.600  162.300000  138.600000   \n",
       "Sniper Rifle                       64.5000   99.675   69.725000   59.725000   \n",
       "Submachine Gun                    484.0000   34.000   23.783333   20.383333   \n",
       "\n",
       "                             BDMG_3      HDMG_0      HDMG_1      HDMG_2  \\\n",
       "Weapon Type                                                               \n",
       "Assault Rifle             20.290000  106.170000   74.330000   63.680000   \n",
       "Designed Marksman Rifle   24.133333  120.216667   84.116667   72.100000   \n",
       "Light Machine Gun         21.550000  110.350000   77.250000   66.150000   \n",
       "Pistol                    17.100000   76.200000   53.325000   45.675000   \n",
       "Shotgun                  104.100000  269.100000  188.400000  161.400000   \n",
       "Sniper Rifle              44.825000  205.500000  143.825000  123.250000   \n",
       "Submachine Gun            15.266667   61.200000   42.783333   36.666667   \n",
       "\n",
       "                             HDMG_3  \n",
       "Weapon Type                          \n",
       "Assault Rifle             47.750000  \n",
       "Designed Marksman Rifle   54.066667  \n",
       "Light Machine Gun         49.600000  \n",
       "Pistol                    34.275000  \n",
       "Shotgun                  120.900000  \n",
       "Sniper Rifle              92.525000  \n",
       "Submachine Gun            27.500000  "
      ]
     },
     "execution_count": 10,
     "metadata": {},
     "output_type": "execute_result"
    }
   ],
   "source": [
    "#Grouping that Data of Weapon Type \n",
    "data.groupby('Weapon Type').mean()"
   ]
  },
  {
   "cell_type": "code",
   "execution_count": 12,
   "id": "04553e08",
   "metadata": {},
   "outputs": [
    {
     "data": {
      "text/plain": [
       "Weapon Type\n",
       "Assault Rifle              10\n",
       "Designed Marksman Rifle     6\n",
       "Light Machine Gun           2\n",
       "Pistol                      4\n",
       "Shotgun                     3\n",
       "Sniper Rifle                4\n",
       "Submachine Gun              6\n",
       "Name: Damage, dtype: int64"
      ]
     },
     "execution_count": 12,
     "metadata": {},
     "output_type": "execute_result"
    }
   ],
   "source": [
    "data.groupby('Weapon Type')['Damage'].count()"
   ]
  },
  {
   "cell_type": "code",
   "execution_count": 13,
   "id": "bb08939c",
   "metadata": {},
   "outputs": [
    {
     "data": {
      "text/plain": [
       "Text(0.5, 1.0, 'Weapon type vs damage')"
      ]
     },
     "execution_count": 13,
     "metadata": {},
     "output_type": "execute_result"
    },
    {
     "data": {
      "image/png": "[encoded data removed]",
      "text/plain": [
       "<Figure size 1080x360 with 1 Axes>"
      ]
     },
     "metadata": {
      "needs_background": "light"
     },
     "output_type": "display_data"
    }
   ],
   "source": [
    "plt.figure(figsize=(15,5))\n",
    "plt.hist(data['Weapon Type'],bins=15,color=\"crimson\")\n",
    "plt.xlabel(\"Weapon Type\")\n",
    "plt.ylabel(\"Damage\")\n",
    "plt.title(\"Weapon type vs damage\")"
   ]
  },
  {
   "cell_type": "code",
   "execution_count": 15,
   "id": "8ebcbf8a",
   "metadata": {},
   "outputs": [
    {
     "data": {
      "text/plain": [
       "Text(0.5, 1.0, 'Weapon type vs damage')"
      ]
     },
     "execution_count": 15,
     "metadata": {},
     "output_type": "execute_result"
    },
    {
     "data": {
      "image/png": "[encoded data removed]",
      "text/plain": [
       "<Figure size 1080x360 with 1 Axes>"
      ]
     },
     "metadata": {
      "needs_background": "light"
     },
     "output_type": "display_data"
    }
   ],
   "source": [
    "plt.figure(figsize=(15,5))\n",
    "plt.hist(data['Magazine Capacity'],bins=15,color=\"violet\")\n",
    "plt.xlabel(\"Magazine Capacity\")\n",
    "plt.ylabel(\"No of guns\")\n",
    "plt.title(\"Weapon type vs damage\")"
   ]
  },
  {
   "cell_type": "code",
   "execution_count": 16,
   "id": "dbad6695",
   "metadata": {},
   "outputs": [
    {
     "data": {
      "image/png": "[encoded data removed]",
      "text/plain": [
       "<Figure size 1080x360 with 1 Axes>"
      ]
     },
     "metadata": {
      "needs_background": "light"
     },
     "output_type": "display_data"
    }
   ],
   "source": [
    "# Weapon Type Vs It's Range in Meters(i.e., How far the Bullet Travels\n",
    "plt.figure(figsize=(15,5))\n",
    "sns.barplot(x='Weapon Type', y = 'Range',data=data)\n",
    "plt.xlabel(\"Weapon Type\")\n",
    "plt.ylabel(\"Range\")\n",
    "plt.title(\"Weapon type vs range\")\n",
    "plt.show()"
   ]
  },
  {
   "cell_type": "code",
   "execution_count": 18,
   "id": "4fc17caa",
   "metadata": {},
   "outputs": [
    {
     "data": {
      "image/png": "[encoded data removed]",
      "text/plain": [
       "<Figure size 1080x360 with 1 Axes>"
      ]
     },
     "metadata": {
      "needs_background": "light"
     },
     "output_type": "display_data"
    }
   ],
   "source": [
    "# comparision between Range and Damage of different Weapon Type(head damage without weapon)\n",
    "plt.figure(figsize=(15,5))\n",
    "plt.bar(data[\"Weapon Type\"],data[\"Range\"],label=\"Range\",color=\"blue\")\n",
    "plt.bar(data[\"Weapon Type\"],data[\"HDMG_0\"],label=\"Damage\",color=\"red\")\n",
    "plt.xlabel('Weapon Type')\n",
    "plt.ylabel('Range & Head Damage')\n",
    "plt.title('Damage vs Range vs headshot')\n",
    "plt.legend()\n",
    "plt.grid(True)\n",
    "plt.show()"
   ]
  },
  {
   "cell_type": "code",
   "execution_count": 19,
   "id": "6e459f77",
   "metadata": {},
   "outputs": [
    {
     "data": {
      "text/html": [
       "<div>\n",
       "<style scoped>\n",
       "    .dataframe tbody tr th:only-of-type {\n",
       "        vertical-align: middle;\n",
       "    }\n",
       "\n",
       "    .dataframe tbody tr th {\n",
       "        vertical-align: top;\n",
       "    }\n",
       "\n",
       "    .dataframe thead th {\n",
       "        text-align: right;\n",
       "    }\n",
       "</style>\n",
       "<table border=\"1\" class=\"dataframe\">\n",
       "  <thead>\n",
       "    <tr style=\"text-align: right;\">\n",
       "      <th></th>\n",
       "      <th>Weapon Type</th>\n",
       "      <th>Damage</th>\n",
       "    </tr>\n",
       "  </thead>\n",
       "  <tbody>\n",
       "    <tr>\n",
       "      <th>0</th>\n",
       "      <td>Assault Rifle</td>\n",
       "      <td>45.200000</td>\n",
       "    </tr>\n",
       "    <tr>\n",
       "      <th>1</th>\n",
       "      <td>Designed Marksman Rifle</td>\n",
       "      <td>50.833333</td>\n",
       "    </tr>\n",
       "    <tr>\n",
       "      <th>2</th>\n",
       "      <td>Light Machine Gun</td>\n",
       "      <td>48.000000</td>\n",
       "    </tr>\n",
       "    <tr>\n",
       "      <th>3</th>\n",
       "      <td>Pistol</td>\n",
       "      <td>38.500000</td>\n",
       "    </tr>\n",
       "    <tr>\n",
       "      <th>4</th>\n",
       "      <td>Shotgun</td>\n",
       "      <td>210.000000</td>\n",
       "    </tr>\n",
       "    <tr>\n",
       "      <th>5</th>\n",
       "      <td>Sniper Rifle</td>\n",
       "      <td>81.250000</td>\n",
       "    </tr>\n",
       "    <tr>\n",
       "      <th>6</th>\n",
       "      <td>Submachine Gun</td>\n",
       "      <td>34.000000</td>\n",
       "    </tr>\n",
       "  </tbody>\n",
       "</table>\n",
       "</div>"
      ],
      "text/plain": [
       "               Weapon Type      Damage\n",
       "0            Assault Rifle   45.200000\n",
       "1  Designed Marksman Rifle   50.833333\n",
       "2        Light Machine Gun   48.000000\n",
       "3                   Pistol   38.500000\n",
       "4                  Shotgun  210.000000\n",
       "5             Sniper Rifle   81.250000\n",
       "6           Submachine Gun   34.000000"
      ]
     },
     "execution_count": 19,
     "metadata": {},
     "output_type": "execute_result"
    }
   ],
   "source": [
    "#Weapon Type vs Damage\n",
    "dup = data.groupby('Weapon Type')['Damage'].mean().reset_index()\n",
    "dup"
   ]
  },
  {
   "cell_type": "code",
   "execution_count": 20,
   "id": "07982f62",
   "metadata": {},
   "outputs": [
    {
     "data": {
      "text/plain": [
       "<AxesSubplot:xlabel='Damage', ylabel='Weapon Type'>"
      ]
     },
     "execution_count": 20,
     "metadata": {},
     "output_type": "execute_result"
    },
    {
     "data": {
      "image/png": "[encoded data removed]",
      "text/plain": [
       "<Figure size 504x504 with 1 Axes>"
      ]
     },
     "metadata": {
      "needs_background": "light"
     },
     "output_type": "display_data"
    }
   ],
   "source": [
    "plt.figure(figsize=(7,7))\n",
    "sns.barplot(y = 'Weapon Type', x = 'Damage', data = dup)"
   ]
  },
  {
   "cell_type": "code",
   "execution_count": 21,
   "id": "5a9f4483",
   "metadata": {},
   "outputs": [
    {
     "data": {
      "text/html": [
       "<div>\n",
       "<style scoped>\n",
       "    .dataframe tbody tr th:only-of-type {\n",
       "        vertical-align: middle;\n",
       "    }\n",
       "\n",
       "    .dataframe tbody tr th {\n",
       "        vertical-align: top;\n",
       "    }\n",
       "\n",
       "    .dataframe thead th {\n",
       "        text-align: right;\n",
       "    }\n",
       "</style>\n",
       "<table border=\"1\" class=\"dataframe\">\n",
       "  <thead>\n",
       "    <tr style=\"text-align: right;\">\n",
       "      <th></th>\n",
       "      <th>Weapon Type</th>\n",
       "      <th>Range</th>\n",
       "    </tr>\n",
       "  </thead>\n",
       "  <tbody>\n",
       "    <tr>\n",
       "      <th>0</th>\n",
       "      <td>Assault Rifle</td>\n",
       "      <td>530.000000</td>\n",
       "    </tr>\n",
       "    <tr>\n",
       "      <th>1</th>\n",
       "      <td>Designed Marksman Rifle</td>\n",
       "      <td>733.333333</td>\n",
       "    </tr>\n",
       "    <tr>\n",
       "      <th>2</th>\n",
       "      <td>Light Machine Gun</td>\n",
       "      <td>500.000000</td>\n",
       "    </tr>\n",
       "    <tr>\n",
       "      <th>3</th>\n",
       "      <td>Pistol</td>\n",
       "      <td>25.000000</td>\n",
       "    </tr>\n",
       "    <tr>\n",
       "      <th>4</th>\n",
       "      <td>Shotgun</td>\n",
       "      <td>25.000000</td>\n",
       "    </tr>\n",
       "    <tr>\n",
       "      <th>5</th>\n",
       "      <td>Sniper Rifle</td>\n",
       "      <td>775.000000</td>\n",
       "    </tr>\n",
       "    <tr>\n",
       "      <th>6</th>\n",
       "      <td>Submachine Gun</td>\n",
       "      <td>208.333333</td>\n",
       "    </tr>\n",
       "  </tbody>\n",
       "</table>\n",
       "</div>"
      ],
      "text/plain": [
       "               Weapon Type       Range\n",
       "0            Assault Rifle  530.000000\n",
       "1  Designed Marksman Rifle  733.333333\n",
       "2        Light Machine Gun  500.000000\n",
       "3                   Pistol   25.000000\n",
       "4                  Shotgun   25.000000\n",
       "5             Sniper Rifle  775.000000\n",
       "6           Submachine Gun  208.333333"
      ]
     },
     "execution_count": 21,
     "metadata": {},
     "output_type": "execute_result"
    }
   ],
   "source": [
    "# Weapon Type vs Range\n",
    "dup1 = data.groupby('Weapon Type')['Range'].mean().reset_index()\n",
    "dup1"
   ]
  },
  {
   "cell_type": "code",
   "execution_count": 22,
   "id": "ac754149",
   "metadata": {},
   "outputs": [
    {
     "data": {
      "text/plain": [
       "<AxesSubplot:xlabel='Range', ylabel='Weapon Type'>"
      ]
     },
     "execution_count": 22,
     "metadata": {},
     "output_type": "execute_result"
    },
    {
     "data": {
      "image/png": "[encoded data removed]",
      "text/plain": [
       "<Figure size 504x504 with 1 Axes>"
      ]
     },
     "metadata": {
      "needs_background": "light"
     },
     "output_type": "display_data"
    }
   ],
   "source": [
    "plt.figure(figsize=(7,7))\n",
    "sns.barplot(y = 'Weapon Type', x = 'Range', data = dup1)"
   ]
  },
  {
   "cell_type": "code",
   "execution_count": 23,
   "id": "0a44973d",
   "metadata": {},
   "outputs": [
    {
     "data": {
      "text/html": [
       "<div>\n",
       "<style scoped>\n",
       "    .dataframe tbody tr th:only-of-type {\n",
       "        vertical-align: middle;\n",
       "    }\n",
       "\n",
       "    .dataframe tbody tr th {\n",
       "        vertical-align: top;\n",
       "    }\n",
       "\n",
       "    .dataframe thead th {\n",
       "        text-align: right;\n",
       "    }\n",
       "</style>\n",
       "<table border=\"1\" class=\"dataframe\">\n",
       "  <thead>\n",
       "    <tr style=\"text-align: right;\">\n",
       "      <th></th>\n",
       "      <th>Weapon Type</th>\n",
       "      <th>Bullet Speed</th>\n",
       "    </tr>\n",
       "  </thead>\n",
       "  <tbody>\n",
       "    <tr>\n",
       "      <th>0</th>\n",
       "      <td>Assault Rifle</td>\n",
       "      <td>816.500000</td>\n",
       "    </tr>\n",
       "    <tr>\n",
       "      <th>1</th>\n",
       "      <td>Designed Marksman Rifle</td>\n",
       "      <td>763.000000</td>\n",
       "    </tr>\n",
       "    <tr>\n",
       "      <th>2</th>\n",
       "      <td>Light Machine Gun</td>\n",
       "      <td>815.000000</td>\n",
       "    </tr>\n",
       "    <tr>\n",
       "      <th>3</th>\n",
       "      <td>Pistol</td>\n",
       "      <td>333.750000</td>\n",
       "    </tr>\n",
       "    <tr>\n",
       "      <th>4</th>\n",
       "      <td>Shotgun</td>\n",
       "      <td>360.000000</td>\n",
       "    </tr>\n",
       "    <tr>\n",
       "      <th>5</th>\n",
       "      <td>Sniper Rifle</td>\n",
       "      <td>792.500000</td>\n",
       "    </tr>\n",
       "    <tr>\n",
       "      <th>6</th>\n",
       "      <td>Submachine Gun</td>\n",
       "      <td>301.666667</td>\n",
       "    </tr>\n",
       "  </tbody>\n",
       "</table>\n",
       "</div>"
      ],
      "text/plain": [
       "               Weapon Type  Bullet Speed\n",
       "0            Assault Rifle    816.500000\n",
       "1  Designed Marksman Rifle    763.000000\n",
       "2        Light Machine Gun    815.000000\n",
       "3                   Pistol    333.750000\n",
       "4                  Shotgun    360.000000\n",
       "5             Sniper Rifle    792.500000\n",
       "6           Submachine Gun    301.666667"
      ]
     },
     "execution_count": 23,
     "metadata": {},
     "output_type": "execute_result"
    }
   ],
   "source": [
    "#Weapon Type vs Bullet Speed\n",
    "dup2 = data.groupby('Weapon Type')['Bullet Speed'].mean().reset_index()\n",
    "dup2"
   ]
  },
  {
   "cell_type": "code",
   "execution_count": 24,
   "id": "63f8fa34",
   "metadata": {},
   "outputs": [
    {
     "data": {
      "text/plain": [
       "<AxesSubplot:xlabel='Bullet Speed', ylabel='Weapon Type'>"
      ]
     },
     "execution_count": 24,
     "metadata": {},
     "output_type": "execute_result"
    },
    {
     "data": {
      "image/png": "[encoded data removed]",
      "text/plain": [
       "<Figure size 504x504 with 1 Axes>"
      ]
     },
     "metadata": {
      "needs_background": "light"
     },
     "output_type": "display_data"
    }
   ],
   "source": [
    "plt.figure(figsize=(7,7))\n",
    "sns.barplot(y = 'Weapon Type', x = 'Bullet Speed', data = dup2)"
   ]
  },
  {
   "cell_type": "code",
   "execution_count": 25,
   "id": "09bd56b3",
   "metadata": {},
   "outputs": [
    {
     "data": {
      "text/html": [
       "<div>\n",
       "<style scoped>\n",
       "    .dataframe tbody tr th:only-of-type {\n",
       "        vertical-align: middle;\n",
       "    }\n",
       "\n",
       "    .dataframe tbody tr th {\n",
       "        vertical-align: top;\n",
       "    }\n",
       "\n",
       "    .dataframe thead th {\n",
       "        text-align: right;\n",
       "    }\n",
       "</style>\n",
       "<table border=\"1\" class=\"dataframe\">\n",
       "  <thead>\n",
       "    <tr style=\"text-align: right;\">\n",
       "      <th></th>\n",
       "      <th>Weapon Type</th>\n",
       "      <th>Rate of Fire</th>\n",
       "    </tr>\n",
       "  </thead>\n",
       "  <tbody>\n",
       "    <tr>\n",
       "      <th>0</th>\n",
       "      <td>Assault Rifle</td>\n",
       "      <td>0.064600</td>\n",
       "    </tr>\n",
       "    <tr>\n",
       "      <th>1</th>\n",
       "      <td>Designed Marksman Rifle</td>\n",
       "      <td>0.023333</td>\n",
       "    </tr>\n",
       "    <tr>\n",
       "      <th>2</th>\n",
       "      <td>Light Machine Gun</td>\n",
       "      <td>0.092000</td>\n",
       "    </tr>\n",
       "    <tr>\n",
       "      <th>3</th>\n",
       "      <td>Pistol</td>\n",
       "      <td>0.177500</td>\n",
       "    </tr>\n",
       "    <tr>\n",
       "      <th>4</th>\n",
       "      <td>Shotgun</td>\n",
       "      <td>0.383333</td>\n",
       "    </tr>\n",
       "    <tr>\n",
       "      <th>5</th>\n",
       "      <td>Sniper Rifle</td>\n",
       "      <td>1.537500</td>\n",
       "    </tr>\n",
       "    <tr>\n",
       "      <th>6</th>\n",
       "      <td>Submachine Gun</td>\n",
       "      <td>0.070250</td>\n",
       "    </tr>\n",
       "  </tbody>\n",
       "</table>\n",
       "</div>"
      ],
      "text/plain": [
       "               Weapon Type  Rate of Fire\n",
       "0            Assault Rifle      0.064600\n",
       "1  Designed Marksman Rifle      0.023333\n",
       "2        Light Machine Gun      0.092000\n",
       "3                   Pistol      0.177500\n",
       "4                  Shotgun      0.383333\n",
       "5             Sniper Rifle      1.537500\n",
       "6           Submachine Gun      0.070250"
      ]
     },
     "execution_count": 25,
     "metadata": {},
     "output_type": "execute_result"
    }
   ],
   "source": [
    "#Weapon Type vs Rate of Fire\n",
    "dup3 = data.groupby('Weapon Type')['Rate of Fire'].mean().reset_index()\n",
    "dup3"
   ]
  },
  {
   "cell_type": "code",
   "execution_count": 26,
   "id": "9d7a1e0a",
   "metadata": {},
   "outputs": [
    {
     "data": {
      "text/plain": [
       "<AxesSubplot:xlabel='Rate of Fire', ylabel='Weapon Type'>"
      ]
     },
     "execution_count": 26,
     "metadata": {},
     "output_type": "execute_result"
    },
    {
     "data": {
      "image/png": "[encoded data removed]",
      "text/plain": [
       "<Figure size 504x504 with 1 Axes>"
      ]
     },
     "metadata": {
      "needs_background": "light"
     },
     "output_type": "display_data"
    }
   ],
   "source": [
    "plt.figure(figsize=(7,7))\n",
    "sns.barplot(y = 'Weapon Type', x = 'Rate of Fire', data = dup3)"
   ]
  },
  {
   "cell_type": "markdown",
   "id": "5fd5f2a2",
   "metadata": {},
   "source": [
    "# By Comparing all four Categories together, from all the above Analysis and Visualization we can say that :\n",
    "# Assualt Rifle + Sniper Rifle is the Best Combo of Guns and is more Efficient. So lets Visualize them Individually for the same 4 different Categories"
   ]
  },
  {
   "cell_type": "code",
   "execution_count": 27,
   "id": "aedc00cd",
   "metadata": {},
   "outputs": [
    {
     "data": {
      "text/html": [
       "<div>\n",
       "<style scoped>\n",
       "    .dataframe tbody tr th:only-of-type {\n",
       "        vertical-align: middle;\n",
       "    }\n",
       "\n",
       "    .dataframe tbody tr th {\n",
       "        vertical-align: top;\n",
       "    }\n",
       "\n",
       "    .dataframe thead th {\n",
       "        text-align: right;\n",
       "    }\n",
       "</style>\n",
       "<table border=\"1\" class=\"dataframe\">\n",
       "  <thead>\n",
       "    <tr style=\"text-align: right;\">\n",
       "      <th></th>\n",
       "      <th>Weapon Name</th>\n",
       "      <th>Damage</th>\n",
       "    </tr>\n",
       "  </thead>\n",
       "  <tbody>\n",
       "    <tr>\n",
       "      <th>0</th>\n",
       "      <td>Groza</td>\n",
       "      <td>49</td>\n",
       "    </tr>\n",
       "    <tr>\n",
       "      <th>1</th>\n",
       "      <td>AKM</td>\n",
       "      <td>49</td>\n",
       "    </tr>\n",
       "    <tr>\n",
       "      <th>3</th>\n",
       "      <td>MK47 Mutant</td>\n",
       "      <td>49</td>\n",
       "    </tr>\n",
       "    <tr>\n",
       "      <th>2</th>\n",
       "      <td>M762</td>\n",
       "      <td>47</td>\n",
       "    </tr>\n",
       "    <tr>\n",
       "      <th>4</th>\n",
       "      <td>AUG A3</td>\n",
       "      <td>43</td>\n",
       "    </tr>\n",
       "    <tr>\n",
       "      <th>5</th>\n",
       "      <td>SCAR-L</td>\n",
       "      <td>43</td>\n",
       "    </tr>\n",
       "    <tr>\n",
       "      <th>6</th>\n",
       "      <td>M416</td>\n",
       "      <td>43</td>\n",
       "    </tr>\n",
       "    <tr>\n",
       "      <th>7</th>\n",
       "      <td>M16A4</td>\n",
       "      <td>43</td>\n",
       "    </tr>\n",
       "    <tr>\n",
       "      <th>8</th>\n",
       "      <td>G36C</td>\n",
       "      <td>43</td>\n",
       "    </tr>\n",
       "    <tr>\n",
       "      <th>9</th>\n",
       "      <td>OBZ</td>\n",
       "      <td>43</td>\n",
       "    </tr>\n",
       "  </tbody>\n",
       "</table>\n",
       "</div>"
      ],
      "text/plain": [
       "   Weapon Name  Damage\n",
       "0        Groza      49\n",
       "1          AKM      49\n",
       "3  MK47 Mutant      49\n",
       "2         M762      47\n",
       "4       AUG A3      43\n",
       "5       SCAR-L      43\n",
       "6         M416      43\n",
       "7        M16A4      43\n",
       "8         G36C      43\n",
       "9          OBZ      43"
      ]
     },
     "execution_count": 27,
     "metadata": {},
     "output_type": "execute_result"
    }
   ],
   "source": [
    "#1 Damage \n",
    "dup4 = data[data['Weapon Type'] == \"Assault Rifle\"][[\"Weapon Name\",\"Damage\"]].sort_values(\"Damage\",ascending=False)\n",
    "dup4"
   ]
  },
  {
   "cell_type": "code",
   "execution_count": 29,
   "id": "5f553439",
   "metadata": {},
   "outputs": [
    {
     "data": {
      "text/plain": [
       "<AxesSubplot:xlabel='Damage', ylabel='Weapon Name'>"
      ]
     },
     "execution_count": 29,
     "metadata": {},
     "output_type": "execute_result"
    },
    {
     "data": {
      "image/png": "[encoded data removed]",
      "text/plain": [
       "<Figure size 504x504 with 1 Axes>"
      ]
     },
     "metadata": {
      "needs_background": "light"
     },
     "output_type": "display_data"
    }
   ],
   "source": [
    "plt.figure(figsize=(7,7))\n",
    "sns.barplot(y = 'Weapon Name', x = 'Damage', data = dup4)"
   ]
  },
  {
   "cell_type": "code",
   "execution_count": 30,
   "id": "a13f37f1",
   "metadata": {},
   "outputs": [
    {
     "data": {
      "text/html": [
       "<div>\n",
       "<style scoped>\n",
       "    .dataframe tbody tr th:only-of-type {\n",
       "        vertical-align: middle;\n",
       "    }\n",
       "\n",
       "    .dataframe tbody tr th {\n",
       "        vertical-align: top;\n",
       "    }\n",
       "\n",
       "    .dataframe thead th {\n",
       "        text-align: right;\n",
       "    }\n",
       "</style>\n",
       "<table border=\"1\" class=\"dataframe\">\n",
       "  <thead>\n",
       "    <tr style=\"text-align: right;\">\n",
       "      <th></th>\n",
       "      <th>Weapon Name</th>\n",
       "      <th>Damage</th>\n",
       "    </tr>\n",
       "  </thead>\n",
       "  <tbody>\n",
       "    <tr>\n",
       "      <th>27</th>\n",
       "      <td>AWM</td>\n",
       "      <td>105</td>\n",
       "    </tr>\n",
       "    <tr>\n",
       "      <th>28</th>\n",
       "      <td>M24</td>\n",
       "      <td>79</td>\n",
       "    </tr>\n",
       "    <tr>\n",
       "      <th>29</th>\n",
       "      <td>Kar98</td>\n",
       "      <td>75</td>\n",
       "    </tr>\n",
       "    <tr>\n",
       "      <th>30</th>\n",
       "      <td>Win94</td>\n",
       "      <td>66</td>\n",
       "    </tr>\n",
       "  </tbody>\n",
       "</table>\n",
       "</div>"
      ],
      "text/plain": [
       "   Weapon Name  Damage\n",
       "27         AWM     105\n",
       "28         M24      79\n",
       "29       Kar98      75\n",
       "30       Win94      66"
      ]
     },
     "execution_count": 30,
     "metadata": {},
     "output_type": "execute_result"
    }
   ],
   "source": [
    "#Sniper Rifle Visualization\n",
    "dup5 = data[data['Weapon Type'] == \"Sniper Rifle\"][[\"Weapon Name\",\"Damage\"]].sort_values(\"Damage\",ascending=False)\n",
    "dup5"
   ]
  },
  {
   "cell_type": "code",
   "execution_count": 31,
   "id": "5c0b5f74",
   "metadata": {},
   "outputs": [
    {
     "data": {
      "text/plain": [
       "<AxesSubplot:xlabel='Damage', ylabel='Weapon Name'>"
      ]
     },
     "execution_count": 31,
     "metadata": {},
     "output_type": "execute_result"
    },
    {
     "data": {
      "image/png": "[encoded data removed]",
      "text/plain": [
       "<Figure size 864x432 with 1 Axes>"
      ]
     },
     "metadata": {
      "needs_background": "light"
     },
     "output_type": "display_data"
    }
   ],
   "source": [
    "plt.figure(figsize=(12,6))\n",
    "sns.barplot(y = 'Weapon Name', x = 'Damage', data = dup5)"
   ]
  },
  {
   "cell_type": "code",
   "execution_count": 32,
   "id": "90d797b9",
   "metadata": {},
   "outputs": [
    {
     "data": {
      "text/html": [
       "<div>\n",
       "<style scoped>\n",
       "    .dataframe tbody tr th:only-of-type {\n",
       "        vertical-align: middle;\n",
       "    }\n",
       "\n",
       "    .dataframe tbody tr th {\n",
       "        vertical-align: top;\n",
       "    }\n",
       "\n",
       "    .dataframe thead th {\n",
       "        text-align: right;\n",
       "    }\n",
       "</style>\n",
       "<table border=\"1\" class=\"dataframe\">\n",
       "  <thead>\n",
       "    <tr style=\"text-align: right;\">\n",
       "      <th></th>\n",
       "      <th>Weapon Name</th>\n",
       "      <th>Range</th>\n",
       "    </tr>\n",
       "  </thead>\n",
       "  <tbody>\n",
       "    <tr>\n",
       "      <th>4</th>\n",
       "      <td>AUG A3</td>\n",
       "      <td>600.0</td>\n",
       "    </tr>\n",
       "    <tr>\n",
       "      <th>5</th>\n",
       "      <td>SCAR-L</td>\n",
       "      <td>600.0</td>\n",
       "    </tr>\n",
       "    <tr>\n",
       "      <th>6</th>\n",
       "      <td>M416</td>\n",
       "      <td>600.0</td>\n",
       "    </tr>\n",
       "    <tr>\n",
       "      <th>7</th>\n",
       "      <td>M16A4</td>\n",
       "      <td>600.0</td>\n",
       "    </tr>\n",
       "    <tr>\n",
       "      <th>8</th>\n",
       "      <td>G36C</td>\n",
       "      <td>600.0</td>\n",
       "    </tr>\n",
       "    <tr>\n",
       "      <th>9</th>\n",
       "      <td>OBZ</td>\n",
       "      <td>600.0</td>\n",
       "    </tr>\n",
       "    <tr>\n",
       "      <th>3</th>\n",
       "      <td>MK47 Mutant</td>\n",
       "      <td>500.0</td>\n",
       "    </tr>\n",
       "    <tr>\n",
       "      <th>0</th>\n",
       "      <td>Groza</td>\n",
       "      <td>400.0</td>\n",
       "    </tr>\n",
       "    <tr>\n",
       "      <th>1</th>\n",
       "      <td>AKM</td>\n",
       "      <td>400.0</td>\n",
       "    </tr>\n",
       "    <tr>\n",
       "      <th>2</th>\n",
       "      <td>M762</td>\n",
       "      <td>400.0</td>\n",
       "    </tr>\n",
       "  </tbody>\n",
       "</table>\n",
       "</div>"
      ],
      "text/plain": [
       "   Weapon Name  Range\n",
       "4       AUG A3  600.0\n",
       "5       SCAR-L  600.0\n",
       "6         M416  600.0\n",
       "7        M16A4  600.0\n",
       "8         G36C  600.0\n",
       "9          OBZ  600.0\n",
       "3  MK47 Mutant  500.0\n",
       "0        Groza  400.0\n",
       "1          AKM  400.0\n",
       "2         M762  400.0"
      ]
     },
     "execution_count": 32,
     "metadata": {},
     "output_type": "execute_result"
    }
   ],
   "source": [
    "# 2 Range\n",
    "dup6 = data[data[\"Weapon Type\"] == \"Assault Rifle\"][[\"Weapon Name\",\"Range\"]].sort_values(\"Range\",ascending=False)\n",
    "dup6"
   ]
  },
  {
   "cell_type": "code",
   "execution_count": 33,
   "id": "750e0fb3",
   "metadata": {},
   "outputs": [
    {
     "data": {
      "text/plain": [
       "<AxesSubplot:xlabel='Range', ylabel='Weapon Name'>"
      ]
     },
     "execution_count": 33,
     "metadata": {},
     "output_type": "execute_result"
    },
    {
     "data": {
      "image/png": "[encoded data removed]",
      "text/plain": [
       "<Figure size 504x504 with 1 Axes>"
      ]
     },
     "metadata": {
      "needs_background": "light"
     },
     "output_type": "display_data"
    }
   ],
   "source": [
    "plt.figure(figsize=(7,7))\n",
    "sns.barplot(y = 'Weapon Name', x = 'Range', data = dup6)"
   ]
  },
  {
   "cell_type": "code",
   "execution_count": 34,
   "id": "5e9479bb",
   "metadata": {},
   "outputs": [
    {
     "data": {
      "text/html": [
       "<div>\n",
       "<style scoped>\n",
       "    .dataframe tbody tr th:only-of-type {\n",
       "        vertical-align: middle;\n",
       "    }\n",
       "\n",
       "    .dataframe tbody tr th {\n",
       "        vertical-align: top;\n",
       "    }\n",
       "\n",
       "    .dataframe thead th {\n",
       "        text-align: right;\n",
       "    }\n",
       "</style>\n",
       "<table border=\"1\" class=\"dataframe\">\n",
       "  <thead>\n",
       "    <tr style=\"text-align: right;\">\n",
       "      <th></th>\n",
       "      <th>Weapon Name</th>\n",
       "      <th>Range</th>\n",
       "    </tr>\n",
       "  </thead>\n",
       "  <tbody>\n",
       "    <tr>\n",
       "      <th>27</th>\n",
       "      <td>AWM</td>\n",
       "      <td>900.0</td>\n",
       "    </tr>\n",
       "    <tr>\n",
       "      <th>28</th>\n",
       "      <td>M24</td>\n",
       "      <td>800.0</td>\n",
       "    </tr>\n",
       "    <tr>\n",
       "      <th>29</th>\n",
       "      <td>Kar98</td>\n",
       "      <td>800.0</td>\n",
       "    </tr>\n",
       "    <tr>\n",
       "      <th>30</th>\n",
       "      <td>Win94</td>\n",
       "      <td>600.0</td>\n",
       "    </tr>\n",
       "  </tbody>\n",
       "</table>\n",
       "</div>"
      ],
      "text/plain": [
       "   Weapon Name  Range\n",
       "27         AWM  900.0\n",
       "28         M24  800.0\n",
       "29       Kar98  800.0\n",
       "30       Win94  600.0"
      ]
     },
     "execution_count": 34,
     "metadata": {},
     "output_type": "execute_result"
    }
   ],
   "source": [
    "dup7 = data[data[\"Weapon Type\"] == \"Sniper Rifle\"][[\"Weapon Name\",\"Range\"]].sort_values(\"Range\",ascending=False)\n",
    "dup7"
   ]
  },
  {
   "cell_type": "code",
   "execution_count": 35,
   "id": "231214b3",
   "metadata": {},
   "outputs": [
    {
     "data": {
      "text/plain": [
       "<AxesSubplot:xlabel='Range', ylabel='Weapon Name'>"
      ]
     },
     "execution_count": 35,
     "metadata": {},
     "output_type": "execute_result"
    },
    {
     "data": {
      "image/png": "[encoded data removed]",
      "text/plain": [
       "<Figure size 864x432 with 1 Axes>"
      ]
     },
     "metadata": {
      "needs_background": "light"
     },
     "output_type": "display_data"
    }
   ],
   "source": [
    "plt.figure(figsize=(12,6))\n",
    "sns.barplot(y = 'Weapon Name', x = 'Range', data = dup7)"
   ]
  },
  {
   "cell_type": "code",
   "execution_count": 36,
   "id": "fad048bd",
   "metadata": {},
   "outputs": [
    {
     "data": {
      "text/html": [
       "<div>\n",
       "<style scoped>\n",
       "    .dataframe tbody tr th:only-of-type {\n",
       "        vertical-align: middle;\n",
       "    }\n",
       "\n",
       "    .dataframe tbody tr th {\n",
       "        vertical-align: top;\n",
       "    }\n",
       "\n",
       "    .dataframe thead th {\n",
       "        text-align: right;\n",
       "    }\n",
       "</style>\n",
       "<table border=\"1\" class=\"dataframe\">\n",
       "  <thead>\n",
       "    <tr style=\"text-align: right;\">\n",
       "      <th></th>\n",
       "      <th>Weapon Name</th>\n",
       "      <th>Bullet Speed</th>\n",
       "    </tr>\n",
       "  </thead>\n",
       "  <tbody>\n",
       "    <tr>\n",
       "      <th>7</th>\n",
       "      <td>M16A4</td>\n",
       "      <td>900.0</td>\n",
       "    </tr>\n",
       "    <tr>\n",
       "      <th>6</th>\n",
       "      <td>M416</td>\n",
       "      <td>890.0</td>\n",
       "    </tr>\n",
       "    <tr>\n",
       "      <th>4</th>\n",
       "      <td>AUG A3</td>\n",
       "      <td>880.0</td>\n",
       "    </tr>\n",
       "    <tr>\n",
       "      <th>5</th>\n",
       "      <td>SCAR-L</td>\n",
       "      <td>880.0</td>\n",
       "    </tr>\n",
       "    <tr>\n",
       "      <th>8</th>\n",
       "      <td>G36C</td>\n",
       "      <td>880.0</td>\n",
       "    </tr>\n",
       "    <tr>\n",
       "      <th>9</th>\n",
       "      <td>OBZ</td>\n",
       "      <td>880.0</td>\n",
       "    </tr>\n",
       "    <tr>\n",
       "      <th>0</th>\n",
       "      <td>Groza</td>\n",
       "      <td>715.0</td>\n",
       "    </tr>\n",
       "    <tr>\n",
       "      <th>2</th>\n",
       "      <td>M762</td>\n",
       "      <td>715.0</td>\n",
       "    </tr>\n",
       "    <tr>\n",
       "      <th>3</th>\n",
       "      <td>MK47 Mutant</td>\n",
       "      <td>715.0</td>\n",
       "    </tr>\n",
       "    <tr>\n",
       "      <th>1</th>\n",
       "      <td>AKM</td>\n",
       "      <td>710.0</td>\n",
       "    </tr>\n",
       "  </tbody>\n",
       "</table>\n",
       "</div>"
      ],
      "text/plain": [
       "   Weapon Name  Bullet Speed\n",
       "7        M16A4         900.0\n",
       "6         M416         890.0\n",
       "4       AUG A3         880.0\n",
       "5       SCAR-L         880.0\n",
       "8         G36C         880.0\n",
       "9          OBZ         880.0\n",
       "0        Groza         715.0\n",
       "2         M762         715.0\n",
       "3  MK47 Mutant         715.0\n",
       "1          AKM         710.0"
      ]
     },
     "execution_count": 36,
     "metadata": {},
     "output_type": "execute_result"
    }
   ],
   "source": [
    "#3 Bullet speed\n",
    "dup8 = data[data[\"Weapon Type\"] == \"Assault Rifle\"][[\"Weapon Name\",\"Bullet Speed\"]].sort_values(\"Bullet Speed\",ascending=False)\n",
    "dup8"
   ]
  },
  {
   "cell_type": "code",
   "execution_count": 37,
   "id": "f9d7a0c3",
   "metadata": {},
   "outputs": [
    {
     "data": {
      "text/plain": [
       "<AxesSubplot:xlabel='Bullet Speed', ylabel='Weapon Name'>"
      ]
     },
     "execution_count": 37,
     "metadata": {},
     "output_type": "execute_result"
    },
    {
     "data": {
      "image/png": "[encoded data removed]",
      "text/plain": [
       "<Figure size 864x432 with 1 Axes>"
      ]
     },
     "metadata": {
      "needs_background": "light"
     },
     "output_type": "display_data"
    }
   ],
   "source": [
    "plt.figure(figsize=(12,6))\n",
    "sns.barplot(y = 'Weapon Name', x = 'Bullet Speed', data = dup8)"
   ]
  },
  {
   "cell_type": "code",
   "execution_count": 38,
   "id": "d09100d1",
   "metadata": {},
   "outputs": [
    {
     "data": {
      "text/html": [
       "<div>\n",
       "<style scoped>\n",
       "    .dataframe tbody tr th:only-of-type {\n",
       "        vertical-align: middle;\n",
       "    }\n",
       "\n",
       "    .dataframe tbody tr th {\n",
       "        vertical-align: top;\n",
       "    }\n",
       "\n",
       "    .dataframe thead th {\n",
       "        text-align: right;\n",
       "    }\n",
       "</style>\n",
       "<table border=\"1\" class=\"dataframe\">\n",
       "  <thead>\n",
       "    <tr style=\"text-align: right;\">\n",
       "      <th></th>\n",
       "      <th>Weapon Name</th>\n",
       "      <th>Bullet Speed</th>\n",
       "    </tr>\n",
       "  </thead>\n",
       "  <tbody>\n",
       "    <tr>\n",
       "      <th>27</th>\n",
       "      <td>AWM</td>\n",
       "      <td>910.0</td>\n",
       "    </tr>\n",
       "    <tr>\n",
       "      <th>28</th>\n",
       "      <td>M24</td>\n",
       "      <td>790.0</td>\n",
       "    </tr>\n",
       "    <tr>\n",
       "      <th>29</th>\n",
       "      <td>Kar98</td>\n",
       "      <td>760.0</td>\n",
       "    </tr>\n",
       "    <tr>\n",
       "      <th>30</th>\n",
       "      <td>Win94</td>\n",
       "      <td>710.0</td>\n",
       "    </tr>\n",
       "  </tbody>\n",
       "</table>\n",
       "</div>"
      ],
      "text/plain": [
       "   Weapon Name  Bullet Speed\n",
       "27         AWM         910.0\n",
       "28         M24         790.0\n",
       "29       Kar98         760.0\n",
       "30       Win94         710.0"
      ]
     },
     "execution_count": 38,
     "metadata": {},
     "output_type": "execute_result"
    }
   ],
   "source": [
    "dup9 = data[data[\"Weapon Type\"] == \"Sniper Rifle\"][[\"Weapon Name\",\"Bullet Speed\"]].sort_values(\"Bullet Speed\",ascending=False)\n",
    "dup9"
   ]
  },
  {
   "cell_type": "code",
   "execution_count": 39,
   "id": "6fe7d8b9",
   "metadata": {},
   "outputs": [
    {
     "data": {
      "text/plain": [
       "<AxesSubplot:xlabel='Bullet Speed', ylabel='Weapon Name'>"
      ]
     },
     "execution_count": 39,
     "metadata": {},
     "output_type": "execute_result"
    },
    {
     "data": {
      "image/png": "[encoded data removed]",
      "text/plain": [
       "<Figure size 864x432 with 1 Axes>"
      ]
     },
     "metadata": {
      "needs_background": "light"
     },
     "output_type": "display_data"
    }
   ],
   "source": [
    "plt.figure(figsize=(12,6))\n",
    "sns.barplot(y = 'Weapon Name', x = 'Bullet Speed', data = dup9)"
   ]
  },
  {
   "cell_type": "code",
   "execution_count": 40,
   "id": "f7fd6011",
   "metadata": {},
   "outputs": [
    {
     "data": {
      "text/html": [
       "<div>\n",
       "<style scoped>\n",
       "    .dataframe tbody tr th:only-of-type {\n",
       "        vertical-align: middle;\n",
       "    }\n",
       "\n",
       "    .dataframe tbody tr th {\n",
       "        vertical-align: top;\n",
       "    }\n",
       "\n",
       "    .dataframe thead th {\n",
       "        text-align: right;\n",
       "    }\n",
       "</style>\n",
       "<table border=\"1\" class=\"dataframe\">\n",
       "  <thead>\n",
       "    <tr style=\"text-align: right;\">\n",
       "      <th></th>\n",
       "      <th>Weapon Name</th>\n",
       "      <th>Rate of Fire</th>\n",
       "    </tr>\n",
       "  </thead>\n",
       "  <tbody>\n",
       "    <tr>\n",
       "      <th>5</th>\n",
       "      <td>SCAR-L</td>\n",
       "      <td>0.096</td>\n",
       "    </tr>\n",
       "    <tr>\n",
       "      <th>9</th>\n",
       "      <td>OBZ</td>\n",
       "      <td>0.096</td>\n",
       "    </tr>\n",
       "    <tr>\n",
       "      <th>2</th>\n",
       "      <td>M762</td>\n",
       "      <td>0.086</td>\n",
       "    </tr>\n",
       "    <tr>\n",
       "      <th>4</th>\n",
       "      <td>AUG A3</td>\n",
       "      <td>0.086</td>\n",
       "    </tr>\n",
       "    <tr>\n",
       "      <th>6</th>\n",
       "      <td>M416</td>\n",
       "      <td>0.086</td>\n",
       "    </tr>\n",
       "    <tr>\n",
       "      <th>8</th>\n",
       "      <td>G36C</td>\n",
       "      <td>0.086</td>\n",
       "    </tr>\n",
       "    <tr>\n",
       "      <th>0</th>\n",
       "      <td>Groza</td>\n",
       "      <td>0.080</td>\n",
       "    </tr>\n",
       "    <tr>\n",
       "      <th>1</th>\n",
       "      <td>AKM</td>\n",
       "      <td>0.010</td>\n",
       "    </tr>\n",
       "    <tr>\n",
       "      <th>3</th>\n",
       "      <td>MK47 Mutant</td>\n",
       "      <td>0.010</td>\n",
       "    </tr>\n",
       "    <tr>\n",
       "      <th>7</th>\n",
       "      <td>M16A4</td>\n",
       "      <td>0.010</td>\n",
       "    </tr>\n",
       "  </tbody>\n",
       "</table>\n",
       "</div>"
      ],
      "text/plain": [
       "   Weapon Name  Rate of Fire\n",
       "5       SCAR-L         0.096\n",
       "9          OBZ         0.096\n",
       "2         M762         0.086\n",
       "4       AUG A3         0.086\n",
       "6         M416         0.086\n",
       "8         G36C         0.086\n",
       "0        Groza         0.080\n",
       "1          AKM         0.010\n",
       "3  MK47 Mutant         0.010\n",
       "7        M16A4         0.010"
      ]
     },
     "execution_count": 40,
     "metadata": {},
     "output_type": "execute_result"
    }
   ],
   "source": [
    "#4 Rate of fire\n",
    "dup10= data[data[\"Weapon Type\"] == \"Assault Rifle\"][[\"Weapon Name\",\"Rate of Fire\"]].sort_values(\"Rate of Fire\",ascending=False)\n",
    "dup10"
   ]
  },
  {
   "cell_type": "code",
   "execution_count": 41,
   "id": "ce54365a",
   "metadata": {},
   "outputs": [
    {
     "data": {
      "text/plain": [
       "<AxesSubplot:xlabel='Rate of Fire', ylabel='Weapon Name'>"
      ]
     },
     "execution_count": 41,
     "metadata": {},
     "output_type": "execute_result"
    },
    {
     "data": {
      "image/png": "[encoded data removed]",
      "text/plain": [
       "<Figure size 864x432 with 1 Axes>"
      ]
     },
     "metadata": {
      "needs_background": "light"
     },
     "output_type": "display_data"
    }
   ],
   "source": [
    "plt.figure(figsize=(12,6))\n",
    "sns.barplot(y = 'Weapon Name', x = 'Rate of Fire', data = dup10)"
   ]
  },
  {
   "cell_type": "code",
   "execution_count": 42,
   "id": "37240930",
   "metadata": {},
   "outputs": [
    {
     "data": {
      "text/html": [
       "<div>\n",
       "<style scoped>\n",
       "    .dataframe tbody tr th:only-of-type {\n",
       "        vertical-align: middle;\n",
       "    }\n",
       "\n",
       "    .dataframe tbody tr th {\n",
       "        vertical-align: top;\n",
       "    }\n",
       "\n",
       "    .dataframe thead th {\n",
       "        text-align: right;\n",
       "    }\n",
       "</style>\n",
       "<table border=\"1\" class=\"dataframe\">\n",
       "  <thead>\n",
       "    <tr style=\"text-align: right;\">\n",
       "      <th></th>\n",
       "      <th>Weapon Name</th>\n",
       "      <th>Rate of Fire</th>\n",
       "    </tr>\n",
       "  </thead>\n",
       "  <tbody>\n",
       "    <tr>\n",
       "      <th>29</th>\n",
       "      <td>Kar98</td>\n",
       "      <td>1.90</td>\n",
       "    </tr>\n",
       "    <tr>\n",
       "      <th>27</th>\n",
       "      <td>AWM</td>\n",
       "      <td>1.85</td>\n",
       "    </tr>\n",
       "    <tr>\n",
       "      <th>28</th>\n",
       "      <td>M24</td>\n",
       "      <td>1.80</td>\n",
       "    </tr>\n",
       "    <tr>\n",
       "      <th>30</th>\n",
       "      <td>Win94</td>\n",
       "      <td>0.60</td>\n",
       "    </tr>\n",
       "  </tbody>\n",
       "</table>\n",
       "</div>"
      ],
      "text/plain": [
       "   Weapon Name  Rate of Fire\n",
       "29       Kar98          1.90\n",
       "27         AWM          1.85\n",
       "28         M24          1.80\n",
       "30       Win94          0.60"
      ]
     },
     "execution_count": 42,
     "metadata": {},
     "output_type": "execute_result"
    }
   ],
   "source": [
    "dup11= data[data[\"Weapon Type\"] == \"Sniper Rifle\"][[\"Weapon Name\",\"Rate of Fire\"]].sort_values(\"Rate of Fire\",ascending=False)\n",
    "dup11"
   ]
  },
  {
   "cell_type": "code",
   "execution_count": 43,
   "id": "30bf94d9",
   "metadata": {},
   "outputs": [
    {
     "data": {
      "text/plain": [
       "<AxesSubplot:xlabel='Rate of Fire', ylabel='Weapon Name'>"
      ]
     },
     "execution_count": 43,
     "metadata": {},
     "output_type": "execute_result"
    },
    {
     "data": {
      "image/png": "[encoded data removed]",
      "text/plain": [
       "<Figure size 864x432 with 1 Axes>"
      ]
     },
     "metadata": {
      "needs_background": "light"
     },
     "output_type": "display_data"
    }
   ],
   "source": [
    "plt.figure(figsize=(12,6))\n",
    "sns.barplot(y = 'Weapon Name', x = 'Rate of Fire', data = dup11)"
   ]
  },
  {
   "cell_type": "markdown",
   "id": "d63a0510",
   "metadata": {},
   "source": [
    "# These are the Analysis and Visualization on different Categories with respect to Weapon Type.\n",
    "# From Above Individual Analysis of Every Weapon Name of Assualt and Sniper Rifles, we Conclude that Groza + AWM is the Beast Combination. M249 gives tough competition with Groza, either of them can be used,it's upto player wish"
   ]
  }
 ],
 "metadata": {
  "kernelspec": {
   "display_name": "Python 3",
   "language": "python",
   "name": "python3"
  },
  "language_info": {
   "codemirror_mode": {
    "name": "ipython",
    "version": 3
   },
   "file_extension": ".py",
   "mimetype": "text/x-python",
   "name": "python",
   "nbconvert_exporter": "python",
   "pygments_lexer": "ipython3",
   "version": "3.8.8"
  }
 },
 "nbformat": 4,
 "nbformat_minor": 5
}
